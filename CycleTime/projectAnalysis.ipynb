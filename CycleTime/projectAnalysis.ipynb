{
 "cells": [
  {
   "cell_type": "code",
   "execution_count": 1,
   "metadata": {},
   "outputs": [],
   "source": [
    "import pandas as pd\n",
    "\n",
    "transHistory = pd.read_csv('./output/transistion_history.csv',names=['proj','key','created_ts','field','from','to','duration'])\n",
    "tHCnt = transHistory.groupby('proj').count().reset_index()\n",
    "# transHistory[transHistory[]]\n",
    "# tHCnt[tHCnt['key']< 10]"
   ]
  },
  {
   "cell_type": "code",
   "execution_count": 2,
   "metadata": {},
   "outputs": [
    {
     "name": "stdout",
     "output_type": "stream",
     "text": [
      "122.19:10:09\n"
     ]
    }
   ],
   "source": [
    "from datetime import datetime\n",
    "\n",
    "def format_timedelta(td):\n",
    "    \"\"\"Formats a timedelta object to 'day.hours:min:sec' format.\"\"\"\n",
    "\n",
    "    seconds = td.total_seconds()\n",
    "    days, seconds = divmod(seconds, 86400)\n",
    "    hours, seconds = divmod(seconds, 3600)\n",
    "    minutes, seconds = divmod(seconds, 60)\n",
    "\n",
    "    return f\"{int(days)}.{int(hours):02}:{int(minutes):02}:{int(seconds):02}\"\n",
    "\n",
    "\n",
    "# datetime in string format\n",
    "str_dt1 = '2021/10/20 09:15:32.36980'\n",
    "str_dt2 = '2022/2/20 04:25:42.120450'\n",
    "\n",
    "# convert string to datetime\n",
    "dt1 = datetime.strptime(str_dt1, \"%Y/%m/%d %H:%M:%S.%f\")\n",
    "dt2 = datetime.strptime(str_dt2, \"%Y/%m/%d %H:%M:%S.%f\")\n",
    "\n",
    "delta = (dt2 - dt1)\n",
    "formatted_td = format_timedelta(delta)\n",
    "print(formatted_td)  "
   ]
  },
  {
   "cell_type": "code",
   "execution_count": 7,
   "metadata": {},
   "outputs": [],
   "source": [
    "def checkExists(variable):\n",
    "    return variable in locals() or variable in globals()"
   ]
  },
  {
   "cell_type": "code",
   "execution_count": 9,
   "metadata": {},
   "outputs": [],
   "source": [
    "try:\n",
    "    if checkExists(pd):\n",
    "        print('use it')\n",
    "    else:\n",
    "        print('loose it')\n",
    "except NameError as e:\n",
    "    pass"
   ]
  }
 ],
 "metadata": {
  "kernelspec": {
   "display_name": "Python 3.9.6 64-bit",
   "language": "python",
   "name": "python3"
  },
  "language_info": {
   "codemirror_mode": {
    "name": "ipython",
    "version": 3
   },
   "file_extension": ".py",
   "mimetype": "text/x-python",
   "name": "python",
   "nbconvert_exporter": "python",
   "pygments_lexer": "ipython3",
   "version": "3.9.6"
  },
  "orig_nbformat": 4,
  "vscode": {
   "interpreter": {
    "hash": "31f2aee4e71d21fbe5cf8b01ff0e069b9275f58929596ceb00d14d90e3e16cd6"
   }
  }
 },
 "nbformat": 4,
 "nbformat_minor": 2
}
