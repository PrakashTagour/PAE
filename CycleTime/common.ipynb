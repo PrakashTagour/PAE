{
 "cells": [
  {
   "cell_type": "code",
   "execution_count": 1,
   "metadata": {},
   "outputs": [],
   "source": [
    "import requests\n",
    "import base64\n",
    "import json\n",
    "import pandas as pd\n",
    "\n",
    "base_url = 'https://jira.footlocker.com/rest/api/2/search'"
   ]
  },
  {
   "cell_type": "code",
   "execution_count": 2,
   "metadata": {},
   "outputs": [],
   "source": [
    "\n",
    "def get_report(base_url):\n",
    "    print(\"Getting report results...\")\n",
    "    header_gs = {'Accept': 'application/json'}\n",
    "    headers = { 'Authorization' : 'Bearer %s' %  'JIRA_TOKEN'}\n",
    "    # 'Content-Length':3000 }\n",
    "    print(base_url)\n",
    "    \n",
    "    for i in range(1,2):\n",
    "        r = requests.get(base_url,headers=headers)\n",
    "        print(r)\n",
    "        if r.ok:\n",
    "            print(\"Report results received...\")\n",
    "            print(\"HTTP %i - %s\" % (r.status_code, r.reason))\n",
    "            return r.text\n",
    "        else:\n",
    "            print(\"HTTP %i - %s\" % (r.status_code, r.reason))\n",
    "            continue\n",
    "    return None"
   ]
  },
  {
   "cell_type": "code",
   "execution_count": 1,
   "metadata": {},
   "outputs": [],
   "source": [
    "def getDataSet(query):\n",
    "    pd_obj = None\n",
    "    dataset= get_report(base_url+query)\n",
    "    if dataset != None:\n",
    "        obj = json.loads(dataset)\n",
    "        pd_obj = obj['issues']\n",
    "        # pd_obj = pd.json_normalize(obj['issues'])\n",
    "    return pd_obj\n",
    "    "
   ]
  },
  {
   "cell_type": "code",
   "execution_count": null,
   "metadata": {},
   "outputs": [],
   "source": [
    "def getUrlDataSet(url):\n",
    "    pd_obj = None\n",
    "\n",
    "    dataset= get_report(url)\n",
    "    if dataset != None:\n",
    "        pd_obj = json.loads(dataset)\n",
    "        # pd_obj = pd.json_normalize(obj['issues'])\n",
    "    return pd_obj"
   ]
  },
  {
   "cell_type": "code",
   "execution_count": null,
   "metadata": {},
   "outputs": [],
   "source": []
  }
 ],
 "metadata": {
  "kernelspec": {
   "display_name": "Python 3.9.6 64-bit",
   "language": "python",
   "name": "python3"
  },
  "language_info": {
   "codemirror_mode": {
    "name": "ipython",
    "version": 3
   },
   "file_extension": ".py",
   "mimetype": "text/x-python",
   "name": "python",
   "nbconvert_exporter": "python",
   "pygments_lexer": "ipython3",
   "version": "3.9.6"
  },
  "orig_nbformat": 4,
  "vscode": {
   "interpreter": {
    "hash": "31f2aee4e71d21fbe5cf8b01ff0e069b9275f58929596ceb00d14d90e3e16cd6"
   }
  }
 },
 "nbformat": 4,
 "nbformat_minor": 2
}
