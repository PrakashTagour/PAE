{
 "cells": [
  {
   "cell_type": "code",
   "execution_count": 83,
   "metadata": {},
   "outputs": [],
   "source": [
    "import requests\n",
    "import base64\n",
    "import json\n",
    "import pandas as pd\n",
    "import logging\n",
    "import os\n",
    "from datetime import datetime\n",
    "import sys\n",
    "\n",
    "base_url = 'https://jira.footlocker.com/rest/api/2/search'"
   ]
  },
  {
   "cell_type": "code",
   "execution_count": 84,
   "metadata": {},
   "outputs": [],
   "source": [
    "\n",
    "def get_report(base_url):\n",
    "    logger.info(\"Getting report results...\")\n",
    "    header_gs = {'Accept': 'application/json'}\n",
    "    headers = { 'Authorization' : 'Bearer %s' %  'OTQ5MjQwODU4MTU4OtHnNkWQEBeFpg4UlD91PxlqSR+H'}\n",
    "    # 'Content-Length':3000 }\n",
    "    logger.info(base_url)\n",
    "    \n",
    "    for i in range(0,3):\n",
    "        r = requests.get(base_url,headers=headers)\n",
    "        logger.info(r)\n",
    "        if r.ok:\n",
    "            logger.info(\"Report results received...\")\n",
    "            logger.info(\"HTTP %i - %s\" % (r.status_code, r.reason))\n",
    "            return r.text\n",
    "        else:\n",
    "            logger.error(\"HTTP %i - %s\" % (r.status_code, r.reason))\n",
    "            continue\n",
    "    return None"
   ]
  },
  {
   "cell_type": "code",
   "execution_count": 91,
   "metadata": {},
   "outputs": [],
   "source": [
    "def getDataSet(query):\n",
    "    pd_obj = None\n",
    "    maxRslt = 2000\n",
    "    totalRsltFetch = -1\n",
    "    df= pd.DataFrame()\n",
    "    while True:\n",
    "        dataset= get_report(base_url+query+f\"&maxResults={maxRslt}&startAt={totalRsltFetch + 1 }\")\n",
    "        if dataset != None:\n",
    "            obj = json.loads(dataset)\n",
    "            logger.info(f\"total: {obj['total']}\")\n",
    "            totalRsltFetch = totalRsltFetch + maxRslt\n",
    "\n",
    "            if obj['issues']:\n",
    "                df = pd.concat([df, pd.json_normalize(obj['issues']) ], ignore_index=True)\n",
    "            else:\n",
    "               logger.error(f'No records found....')\n",
    "            if (totalRsltFetch >= obj['total'] ):\n",
    "                break\n",
    "        # pd_obj = pd.json_normalize(obj['issues'])\n",
    "            \n",
    "\n",
    "    return df\n",
    "    "
   ]
  },
  {
   "cell_type": "code",
   "execution_count": 86,
   "metadata": {},
   "outputs": [],
   "source": [
    "def getUrlDataSet(url):\n",
    "    pd_obj = None\n",
    "\n",
    "    dataset= get_report(url)\n",
    "    if dataset != None:\n",
    "        pd_obj = json.loads(dataset)\n",
    "        # pd_obj = pd.json_normalize(obj['issues'])\n",
    "    return pd_obj"
   ]
  },
  {
   "cell_type": "code",
   "execution_count": 87,
   "metadata": {},
   "outputs": [],
   "source": [
    "def setup_logger( level=logging.INFO):\n",
    "    \"\"\"Configures a logger and returns it.\"\"\"\n",
    "\n",
    "    # if not os.path.exists('./log'):\n",
    "    #     os.makedirs('./log')\n",
    "\n",
    "    formatter = logging.Formatter('%(asctime)s - %(name)s - %(levelname)s - %(message)s')\n",
    "\n",
    "    # handler = logging.FileHandler('./log/soleProj.log')\n",
    "    handler = logging.StreamHandler()\n",
    "    handler.setFormatter(formatter)\n",
    "   \n",
    "    logger = logging.getLogger()\n",
    "    logger.setLevel(level)\n",
    "    \n",
    "    if (logger.hasHandlers()):\n",
    "        logger.handlers.clear()\n",
    "\n",
    "    logger.addHandler(handler)\n",
    "   \n",
    "\n",
    "    return logger"
   ]
  },
  {
   "cell_type": "code",
   "execution_count": 88,
   "metadata": {},
   "outputs": [],
   "source": [
    "\n",
    "def sprintvalue(x,field):\n",
    "    if(len(x)!=0):\n",
    "      return x[field]\n",
    "    else:\n",
    "     return 'NA'"
   ]
  },
  {
   "cell_type": "code",
   "execution_count": 89,
   "metadata": {},
   "outputs": [],
   "source": [
    "def keyvalue(x,field):\n",
    "    if(len(x)!=0):\n",
    "      return x[0][field]\n",
    "    else:\n",
    "     return 'NA'\n"
   ]
  },
  {
   "cell_type": "code",
   "execution_count": 90,
   "metadata": {},
   "outputs": [],
   "source": [
    "\n",
    "def convert_to_key_value(string):\n",
    "    result = {}\n",
    "    # print(string)\n",
    "    if string :\n",
    "        pairs = string[0].split(',')  # Split string by comma\n",
    "        for pair in pairs:\n",
    "            key, value = pair.split('=')  # Split each pair by '='\n",
    "            result[key.strip()] = value.strip()  # Add to dictionary, stripping whitespace\n",
    "    return result"
   ]
  }
 ],
 "metadata": {
  "kernelspec": {
   "display_name": "Python 3.9.6 64-bit",
   "language": "python",
   "name": "python3"
  },
  "language_info": {
   "codemirror_mode": {
    "name": "ipython",
    "version": 3
   },
   "file_extension": ".py",
   "mimetype": "text/x-python",
   "name": "python",
   "nbconvert_exporter": "python",
   "pygments_lexer": "ipython3",
   "version": "3.9.6"
  },
  "orig_nbformat": 4,
  "vscode": {
   "interpreter": {
    "hash": "31f2aee4e71d21fbe5cf8b01ff0e069b9275f58929596ceb00d14d90e3e16cd6"
   }
  }
 },
 "nbformat": 4,
 "nbformat_minor": 2
}
