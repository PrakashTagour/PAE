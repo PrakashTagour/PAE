{
 "cells": [
  {
   "cell_type": "code",
   "execution_count": 1,
   "metadata": {},
   "outputs": [],
   "source": [
    "import requests\n",
    "import base64\n",
    "import json\n",
    "import logging\n",
    "import os\n",
    "import sys\n",
    "import pytz\n",
    "import warnings\n",
    "import gc\n",
    "import pandas as pd\n",
    "from pathlib import Path\n",
    "from datetime import datetime\n",
    "\n",
    "warnings.filterwarnings(\"ignore\")\n",
    "\n",
    "base_url = 'https://jira.footlocker.com/rest/api/2/search'"
   ]
  },
  {
   "cell_type": "code",
   "execution_count": 84,
   "metadata": {},
   "outputs": [],
   "source": [
    "\n",
    "def get_report(base_url,api_token):\n",
    "    logger.info(\"Getting report results...\")\n",
    "    header_gs = {'Accept': 'application/json'}\n",
    "    headers = { 'Authorization' : 'Bearer %s' %  api_token}\n",
    "    # 'Content-Length':3000 }\n",
    "    logger.info(base_url)\n",
    "    \n",
    "    for i in range(0,3):\n",
    "        r = requests.get(base_url,headers=headers)\n",
    "        logger.info(r)\n",
    "        if r.ok:\n",
    "            logger.info(\"Report results received...\")\n",
    "            logger.info(\"HTTP %i - %s\" % (r.status_code, r.reason))\n",
    "            return r.text\n",
    "        else:\n",
    "            logger.error(\"HTTP %i - %s\" % (r.status_code, r.reason))\n",
    "            continue\n",
    "    return None"
   ]
  },
  {
   "cell_type": "code",
   "execution_count": 91,
   "metadata": {},
   "outputs": [],
   "source": [
    "def getDataSet(query, project, issueType,api_token):\n",
    "    pd_obj = None\n",
    "    maxRslt = 500\n",
    "    totalRsltFetch = -1\n",
    "    df= pd.DataFrame()\n",
    "    while True:\n",
    "        dataset= get_report(base_url+query+f\"&maxResults={maxRslt}&startAt={totalRsltFetch + 1 }\", api_token)\n",
    "        if dataset != None:\n",
    "            obj = json.loads(dataset)\n",
    "            logger.info(f\"total: {obj['total']} ({project} - {issueType})\")\n",
    "            totalRsltFetch = totalRsltFetch + maxRslt\n",
    "\n",
    "            if obj['issues']:\n",
    "                df = pd.concat([df, pd.json_normalize(obj['issues']) ], ignore_index=True)\n",
    "            else:\n",
    "               logger.error(f'No records found ({project} - {issueType})....')\n",
    "            if (totalRsltFetch >= obj['total'] ):\n",
    "                break\n",
    "        # pd_obj = pd.json_normalize(obj['issues'])\n",
    "        else:\n",
    "            logger.error(f'Dataset was empty ({project} - {issueType})....')\n",
    "            break\n",
    "        # break       \n",
    "\n",
    "    return df\n",
    "    "
   ]
  },
  {
   "cell_type": "code",
   "execution_count": 86,
   "metadata": {},
   "outputs": [],
   "source": [
    "def getUrlDataSet(url,api_token):\n",
    "    pd_obj = None\n",
    "\n",
    "    dataset= get_report(ur, api_token)\n",
    "    if dataset != None:\n",
    "        pd_obj = json.loads(dataset)\n",
    "        # pd_obj = pd.json_normalize(obj['issues'])\n",
    "    return pd_obj"
   ]
  },
  {
   "cell_type": "code",
   "execution_count": 87,
   "metadata": {},
   "outputs": [],
   "source": [
    "def setup_logger( level=logging.WARNING):\n",
    "    \"\"\"Configures a logger and returns it.\"\"\"\n",
    "\n",
    "    # if not os.path.exists('./log'):\n",
    "    #     os.makedirs('./log')\n",
    "\n",
    "    formatter = logging.Formatter('%(asctime)s - %(name)s - %(levelname)s - %(message)s')\n",
    "\n",
    "    # handler = logging.FileHandler('./log/soleProj.log')\n",
    "    handler = logging.StreamHandler()\n",
    "    handler.setFormatter(formatter)\n",
    "   \n",
    "    logger = logging.getLogger()\n",
    "    logger.setLevel(level)\n",
    "    \n",
    "    if (logger.hasHandlers()):\n",
    "        logger.handlers.clear()\n",
    "\n",
    "    logger.addHandler(handler)\n",
    "   \n",
    "\n",
    "    return logger"
   ]
  },
  {
   "cell_type": "code",
   "execution_count": null,
   "metadata": {},
   "outputs": [],
   "source": [
    "def projectList():\n",
    "    searchURL='https://jira.footlocker.com/rest/api/2/project'\n",
    "    searchQry_DS = getUrlDataSet(searchURL)\n",
    "    df=pd.json_normalize(searchQry_DS)\n",
    "    df=df.drop(df[df['key'].isin(['DEVOPS','EPL'])].index)\n",
    "    return df['key']"
   ]
  },
  {
   "cell_type": "code",
   "execution_count": 88,
   "metadata": {},
   "outputs": [],
   "source": [
    "\n",
    "def sprintvalue(x,field):\n",
    "    if(len(x)!=0):\n",
    "      return x[field]\n",
    "    else:\n",
    "     return 'NA'"
   ]
  },
  {
   "cell_type": "code",
   "execution_count": 89,
   "metadata": {},
   "outputs": [],
   "source": [
    "def keyvalue(x,field):\n",
    "    if(len(x)!=0):\n",
    "      return x[0][field]\n",
    "    else:\n",
    "     return 'NA'\n"
   ]
  },
  {
   "cell_type": "code",
   "execution_count": 90,
   "metadata": {},
   "outputs": [],
   "source": [
    "def clean_folder(filepath,finder):\n",
    "    # Get all .csv files in the 'data' directory\n",
    "    csv_files = Path(filepath).glob(f\"*{finder}\")                                   \n",
    "    for file in csv_files:\n",
    "        filename=file.name\n",
    "        newname= filename.replace(finder,'.csv')\n",
    "        logger.warning(f'renaming {filename} TO {newname}....')\n",
    "        os.rename(os.path.join(filepath, filename), os.path.join(filepath, newname))\n",
    "        os.utime(os.path.join(filepath, newname), None)"
   ]
  }
 ],
 "metadata": {
  "kernelspec": {
   "display_name": "Python 3.9.6 64-bit",
   "language": "python",
   "name": "python3"
  },
  "language_info": {
   "codemirror_mode": {
    "name": "ipython",
    "version": 3
   },
   "file_extension": ".py",
   "mimetype": "text/x-python",
   "name": "python",
   "nbconvert_exporter": "python",
   "pygments_lexer": "ipython3",
   "version": "3.9.6"
  },
  "orig_nbformat": 4,
  "vscode": {
   "interpreter": {
    "hash": "31f2aee4e71d21fbe5cf8b01ff0e069b9275f58929596ceb00d14d90e3e16cd6"
   }
  }
 },
 "nbformat": 4,
 "nbformat_minor": 2
}
