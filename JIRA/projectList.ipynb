{
 "cells": [
  {
   "cell_type": "code",
   "execution_count": null,
   "metadata": {},
   "outputs": [],
   "source": [
    "%run ./common.ipynb\n",
    "%run ./JiraTransitions.ipynb\n",
    "\n",
    "import os"
   ]
  },
  {
   "cell_type": "code",
   "execution_count": null,
   "metadata": {},
   "outputs": [],
   "source": []
  },
  {
   "cell_type": "code",
   "execution_count": null,
   "metadata": {},
   "outputs": [],
   "source": [
    "def projectList():\n",
    "    searchURL='https://jira.footlocker.com/rest/api/2/project'\n",
    "    searchQry_DS = getUrlDataSet(searchURL)\n",
    "    df=pd.json_normalize(searchQry_DS)\n",
    "    return df['key']"
   ]
  },
  {
   "cell_type": "code",
   "execution_count": null,
   "metadata": {},
   "outputs": [],
   "source": [
    "g_cycleTimeDf = pd.DataFrame(columns=['key','leadTime','development','QA','deployment','proj'])\n",
    "\n",
    "file_path = \"./output/cycleTime.csv\"\n",
    "if os.path.exists(file_path):\n",
    "    os.remove(file_path)\n",
    "\n",
    "file_path = \"./output/transistion_history.csv\"\n",
    "if os.path.exists(file_path):\n",
    "    os.remove(file_path)\n",
    "\n",
    "pl=projectList()\n",
    "cycleTimeDf = pd.DataFrame()\n",
    "for proj in pl:    \n",
    "    cycleTimeDf = cycleTimeForAProject(proj)\n",
    "    if cycleTimeDf.empty:\n",
    "        print(f'{proj} have not cycle time to process')\n",
    "    else:\n",
    "        g_cycleTimeDf = pd.concat([g_cycleTimeDf, cycleTimeDf ], ignore_index=True)\n",
    "\n",
    "g_cycleTimeDf.to_csv('./output/cycleTime.csv', index=False)"
   ]
  },
  {
   "cell_type": "code",
   "execution_count": null,
   "metadata": {},
   "outputs": [],
   "source": [
    "searchURL='https://jira.footlocker.com/rest/api/2/project'\n",
    "searchQry_DS = getUrlDataSet(searchURL)\n",
    "df=pd.json_normalize(searchQry_DS)\n",
    "df.to_csv('projectlist.csv', index=False)"
   ]
  },
  {
   "cell_type": "code",
   "execution_count": null,
   "metadata": {},
   "outputs": [],
   "source": [
    "transHistory = pd.read_csv('./output/transistion_history.csv',names=['proj','key','created_ts','field','from','to','duration'])\n",
    "tHCnt = transHistory.groupby('proj').count().reset_index()"
   ]
  },
  {
   "cell_type": "code",
   "execution_count": null,
   "metadata": {},
   "outputs": [],
   "source": [
    "tHCnt"
   ]
  }
 ],
 "metadata": {
  "kernelspec": {
   "display_name": "Python 3.9.6 64-bit",
   "language": "python",
   "name": "python3"
  },
  "language_info": {
   "codemirror_mode": {
    "name": "ipython",
    "version": 3
   },
   "file_extension": ".py",
   "mimetype": "text/x-python",
   "name": "python",
   "nbconvert_exporter": "python",
   "pygments_lexer": "ipython3",
   "version": "3.9.6"
  },
  "orig_nbformat": 4,
  "vscode": {
   "interpreter": {
    "hash": "31f2aee4e71d21fbe5cf8b01ff0e069b9275f58929596ceb00d14d90e3e16cd6"
   }
  }
 },
 "nbformat": 4,
 "nbformat_minor": 2
}
