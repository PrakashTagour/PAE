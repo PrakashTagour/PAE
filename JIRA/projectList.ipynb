{
 "cells": [
  {
   "cell_type": "code",
   "execution_count": null,
   "metadata": {},
   "outputs": [],
   "source": [
    "%run ./common.ipynb\n",
    "%run ./JiraTransitions.ipynb"
   ]
  },
  {
   "cell_type": "code",
   "execution_count": null,
   "metadata": {},
   "outputs": [],
   "source": [
    "def projectList():\n",
    "    searchURL='https://jira.footlocker.com/rest/api/2/project'\n",
    "    searchQry_DS = getUrlDataSet(searchURL)\n",
    "    df=pd.json_normalize(searchQry_DS)\n",
    "    return df['key']"
   ]
  },
  {
   "cell_type": "code",
   "execution_count": null,
   "metadata": {},
   "outputs": [],
   "source": [
    "g_cycleTimeDf = pd.DataFrame(columns=['key','leadTime','development','QA','deployment','proj'])\n",
    "import os\n",
    "os.remove(\"*.csv\")\n",
    "pl=projectList()\n",
    "cycleTimeDf = pd.DataFrame()\n",
    "count = 0\n",
    "for proj in pl:    \n",
    "    g_cycleTimeDf = pd.concat([g_cycleTimeDf, cycleTimeForAProject(proj)], ignore_index=True)\n",
    "g_cycleTimeDf.to_csv('cycleTime.csv', index=False)"
   ]
  },
  {
   "cell_type": "code",
   "execution_count": null,
   "metadata": {},
   "outputs": [],
   "source": [
    "\n"
   ]
  }
 ],
 "metadata": {
  "kernelspec": {
   "display_name": "Python 3.9.6 64-bit",
   "language": "python",
   "name": "python3"
  },
  "language_info": {
   "codemirror_mode": {
    "name": "ipython",
    "version": 3
   },
   "file_extension": ".py",
   "mimetype": "text/x-python",
   "name": "python",
   "nbconvert_exporter": "python",
   "pygments_lexer": "ipython3",
   "version": "3.9.6"
  },
  "orig_nbformat": 4,
  "vscode": {
   "interpreter": {
    "hash": "31f2aee4e71d21fbe5cf8b01ff0e069b9275f58929596ceb00d14d90e3e16cd6"
   }
  }
 },
 "nbformat": 4,
 "nbformat_minor": 2
}
