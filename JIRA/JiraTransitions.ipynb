{
 "cells": [
  {
   "cell_type": "code",
   "execution_count": null,
   "metadata": {},
   "outputs": [],
   "source": [
    "import datetime\n",
    "import pytz\n",
    "\n",
    "\n",
    "%run ./common.ipynb"
   ]
  },
  {
   "cell_type": "code",
   "execution_count": null,
   "metadata": {},
   "outputs": [],
   "source": [
    "# searchQry='?jql=key%20in%20(%27CSP-151%27,%27CSP-963%27)&expand=changelog'\n",
    "# searchQry='?jql=sprint%20=%207431%20and%20type%20=%20Story&expand=changelog'\n",
    "searchQry='?jql= project in (\"CSP\") and type  in (Story) and updated <= startofday(-90d)&fields=key,status&expand=changelog&maxResults=5000'\n",
    "cycleTimeDf = pd.DataFrame(columns=['key','leadTime','development','QA','deployment'])\n",
    "searchQry_DS = getDataSet(searchQry)"
   ]
  },
  {
   "cell_type": "code",
   "execution_count": null,
   "metadata": {},
   "outputs": [],
   "source": [
    "changelog_Rec =[ ]\n",
    "for searchResult in searchQry_DS:\n",
    "    changelog = searchResult['changelog']\n",
    "    for history in changelog['histories']:\n",
    "        history_id = history['id']\n",
    "        created_at = history.get('created',None)\n",
    "        for item in history['items']:\n",
    "            # print(item_list['field'])\n",
    "            changelog_Rec.append({\n",
    "                'key': searchResult['key'],\n",
    "                'created_at': created_at,\n",
    "                'field': item['field'],\n",
    "                'from': item['fromString'],\n",
    "                'to': item['toString'],\n",
    "            })\n",
    "\n",
    "changelog_Rec_df = pd.DataFrame(changelog_Rec)\n",
    "\n",
    "status_change = changelog_Rec_df[changelog_Rec_df['field']=='status']\n",
    "\n",
    "status_change = status_change.reset_index(drop=True)\n"
   ]
  },
  {
   "cell_type": "code",
   "execution_count": null,
   "metadata": {},
   "outputs": [],
   "source": [
    "def calculateCycleTime(_status_change,current_status,key):\n",
    "    cycleTime = {}\n",
    "    if (current_status != 'Done'):\n",
    "        # Get the current time in UTC\n",
    "        now_utc = datetime.datetime.now(pytz.utc)\n",
    "        # Convert to Eastern Time\n",
    "        eastern = pytz.timezone('US/Eastern')\n",
    "        now_est = now_utc.astimezone(eastern)\n",
    "        new_node = {\n",
    "                    'key':key,\n",
    "                    'created_at': now_est.strftime('%Y-%m-%dT%H:%M:%S.%f%z'),\n",
    "                    'field': 'status',\n",
    "                    'from': current_status,\n",
    "                    'to' : 'Active'\n",
    "                    }\n",
    "        _status_change.loc[len(_status_change)] = new_node     \n",
    "\n",
    "    _status_change = _status_change.reset_index(drop=True)\n",
    "    _status_change['created_at'] = pd.to_datetime(_status_change['created_at'], format='%Y-%m-%dT%H:%M:%S.%f%z')\n",
    "    _status_change['time_diff'] = _status_change['created_at'].diff()\n",
    "    _status_change = _status_change.reset_index(drop=True)\n",
    "    cycleTime['key'] = _status_change['key'][0]\n",
    "    cycleTime['leadTime'] = _status_change['time_diff'].sum()\n",
    "    cycleTime['development'] = _status_change[_status_change['to'].isin( ['In Progress','Code Review','Testing','Active'])]['time_diff'].sum()\n",
    "    cycleTime['QA'] = _status_change[_status_change['from'].isin( ['Testing']) ] [_status_change['to'].isin( ['Deploy', 'Active'])]['time_diff'].sum()\n",
    "    cycleTime['deployment'] = _status_change[_status_change['from'].isin( ['Deploy']) ]['time_diff'].sum()\n",
    "\n",
    "    display (_status_change)\n",
    "    display(cycleTime)\n",
    "    return cycleTime\n"
   ]
  },
  {
   "cell_type": "code",
   "execution_count": null,
   "metadata": {},
   "outputs": [],
   "source": [
    "for searchResult in searchQry_DS:\n",
    "    result = status_change[status_change['key'] == searchResult['key']]\n",
    "    cycleTimeDf = cycleTimeDf.append(calculateCycleTime(result,searchResult['fields']['status']['name'],searchResult['key']), ignore_index=True)\n",
    "\n",
    "display(cycleTimeDf)\n"
   ]
  },
  {
   "cell_type": "code",
   "execution_count": null,
   "metadata": {},
   "outputs": [],
   "source": []
  }
 ],
 "metadata": {
  "kernelspec": {
   "display_name": "Python 3.9.6 64-bit",
   "language": "python",
   "name": "python3"
  },
  "language_info": {
   "codemirror_mode": {
    "name": "ipython",
    "version": 3
   },
   "file_extension": ".py",
   "mimetype": "text/x-python",
   "name": "python",
   "nbconvert_exporter": "python",
   "pygments_lexer": "ipython3",
   "version": "3.9.6"
  },
  "orig_nbformat": 4,
  "vscode": {
   "interpreter": {
    "hash": "31f2aee4e71d21fbe5cf8b01ff0e069b9275f58929596ceb00d14d90e3e16cd6"
   }
  }
 },
 "nbformat": 4,
 "nbformat_minor": 2
}
