{
 "cells": [
  {
   "cell_type": "code",
   "execution_count": 27,
   "metadata": {},
   "outputs": [],
   "source": [
    "import datetime\n",
    "import pytz\n",
    "import warnings\n",
    "\n",
    "%run ./common.ipynb\n",
    "\n",
    "warnings.filterwarnings(\"ignore\")"
   ]
  },
  {
   "cell_type": "code",
   "execution_count": 28,
   "metadata": {},
   "outputs": [],
   "source": [
    "def format_timedelta(td):\n",
    "    \"\"\"Formats a timedelta object to 'day.hours:min:sec' format.\"\"\"\n",
    "\n",
    "    seconds = td.total_seconds()\n",
    "    days, seconds = divmod(seconds, 86400)\n",
    "    hours, seconds = divmod(seconds, 3600)\n",
    "    minutes, seconds = divmod(seconds, 60)\n",
    "\n",
    "    return f\"{int(days)}.{int(hours):02}:{int(minutes):02}:{int(seconds):02}\""
   ]
  },
  {
   "cell_type": "code",
   "execution_count": 29,
   "metadata": {},
   "outputs": [],
   "source": [
    "def calculateCycleTime_NewWorkFlow(_status_change,current_status,key,proj):\n",
    "    cycleTime = {}\n",
    "    if (current_status != 'Done'):\n",
    "        # Get the current time in UTC\n",
    "        now_utc = datetime.datetime.now(pytz.utc)\n",
    "        # Convert to Eastern Time\n",
    "        eastern = pytz.timezone('US/Eastern')\n",
    "        now_est = now_utc.astimezone(eastern)\n",
    "        new_node = {\n",
    "                    'proj':proj,\n",
    "                    'key':key,\n",
    "                    'created_at': now_est.strftime('%Y-%m-%dT%H:%M:%S.%f%z'),\n",
    "                    # 'field': 'status',\n",
    "                    'from': current_status,\n",
    "                    'to' : 'Active'\n",
    "                    }\n",
    "        _status_change.loc[len(_status_change)] = new_node     \n",
    "    \n",
    "    _status_change = _status_change.reset_index(drop=True)\n",
    "    _status_change['created_at'] = pd.to_datetime(_status_change['created_at'], format='%Y-%m-%dT%H:%M:%S.%f%z')\n",
    "    _status_change['time_diff'] = _status_change['created_at'].diff()\n",
    "    _status_change['proj']=proj\n",
    "    _status_change = _status_change.reset_index(drop=True)\n",
    "    _status_change.to_csv('./output/transistion_history.csv', mode='a', header=False, index=False)\n",
    "    cycleTime['proj'] = proj\n",
    "    cycleTime['key'] = _status_change['key'][0]\n",
    "    cycleTime['leadTime'] = format_timedelta(_status_change['time_diff'].sum())\n",
    "    cycleTime['development'] = format_timedelta(_status_change[_status_change['to'].isin( ['In Progress','Code Review','Testing','Active'])]['time_diff'].sum())\n",
    "    cycleTime['QA'] = format_timedelta(_status_change[_status_change['from'].isin( ['Testing']) ] [_status_change['to'].isin( ['Deploy', 'Active'])]['time_diff'].sum())\n",
    "    cycleTime['deployment'] = format_timedelta(_status_change[_status_change['from'].isin( ['Deploy']) ]['time_diff'].sum())\n",
    "\n",
    "    # display (_status_change)\n",
    "    # display(cycleTime)\n",
    "    return cycleTime"
   ]
  },
  {
   "cell_type": "code",
   "execution_count": 30,
   "metadata": {},
   "outputs": [],
   "source": [
    "def getChangeLog(searchQry_DS,proj):\n",
    "    changelog_Rec =[ ]\n",
    "    cycleTimeDf = pd.DataFrame(columns=['key','leadTime','development','QA','deployment','proj'])\n",
    "\n",
    "    for searchResult in searchQry_DS:\n",
    "        changelog = searchResult['changelog']\n",
    "        for history in changelog['histories']:\n",
    "            history_id = history['id']\n",
    "            created_at = history.get('created',None)\n",
    "            for item in history['items']:\n",
    "                changelog_Rec.append({\n",
    "                    'proj':proj,\n",
    "                    'key': searchResult['key'],\n",
    "                    'created_at': created_at,\n",
    "                    'field': item['field'],\n",
    "                    'from': item['fromString'],\n",
    "                    'to': item['toString'],\n",
    "                })\n",
    "    if changelog_Rec :\n",
    "        changelog_Rec_df = pd.DataFrame(changelog_Rec)\n",
    "\n",
    "        status_change = changelog_Rec_df[changelog_Rec_df['field']=='status']\n",
    "\n",
    "        status_change = status_change.reset_index(drop=True)\n",
    "        for searchResult in searchQry_DS:\n",
    "            result = status_change[status_change['key'] == searchResult['key']]\n",
    "            cycleTimeDf = cycleTimeDf.append(calculateCycleTime_NewWorkFlow(result,searchResult['fields']['status']['name'],searchResult['key'],proj), ignore_index=True)\n",
    "\n",
    "    return cycleTimeDf"
   ]
  },
  {
   "cell_type": "code",
   "execution_count": 31,
   "metadata": {},
   "outputs": [],
   "source": [
    "def cycleTimeForAProject(proj):\n",
    "    searchQry='?jql= project in (\"%s\") and type  in (Story) and updated >= startOfMonth(-3)&fields=key,status&expand=changelog&maxResults=5000'%\"\".join(proj)\n",
    "    searchQry_DS = getDataSet(searchQry)\n",
    "    _cycleTimeDataFrame = pd.DataFrame()\n",
    "    if searchQry_DS:\n",
    "       _cycleTimeDataFrame = getChangeLog(searchQry_DS,proj)\n",
    "    # display(cycleTimeDf)\n",
    "    return _cycleTimeDataFrame\n"
   ]
  }
 ],
 "metadata": {
  "kernelspec": {
   "display_name": "Python 3.9.6 64-bit",
   "language": "python",
   "name": "python3"
  },
  "language_info": {
   "codemirror_mode": {
    "name": "ipython",
    "version": 3
   },
   "file_extension": ".py",
   "mimetype": "text/x-python",
   "name": "python",
   "nbconvert_exporter": "python",
   "pygments_lexer": "ipython3",
   "version": "3.9.6"
  },
  "orig_nbformat": 4,
  "vscode": {
   "interpreter": {
    "hash": "31f2aee4e71d21fbe5cf8b01ff0e069b9275f58929596ceb00d14d90e3e16cd6"
   }
  }
 },
 "nbformat": 4,
 "nbformat_minor": 2
}
