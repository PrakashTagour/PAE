{
 "cells": [
  {
   "cell_type": "code",
   "execution_count": null,
   "metadata": {},
   "outputs": [],
   "source": [
    "%run ./common.ipynb\n",
    "# %run ./JiraTransitions.ipynb\n",
    "%run ./projectDetails.ipynb\n",
    "import os"
   ]
  },
  {
   "cell_type": "code",
   "execution_count": null,
   "metadata": {},
   "outputs": [],
   "source": [
    "g_Df = pd.DataFrame(columns=['key','FixVersion',\n",
    " 'Priority',\n",
    " 'Acceptance Criteria',\n",
    " 'Severity Level',\n",
    " 'Labels',\n",
    " 'EpicLink',\n",
    " 'Status',\n",
    " 'Components',\n",
    " 'IssueCreator',\n",
    " 'creator.emailAddress',\n",
    " 'creator.displayName',\n",
    " 'SubTasks',\n",
    " 'Reporter.name',\n",
    " 'reporter.emailAddress',\n",
    " 'reporter.displayName',\n",
    " 'issueType',\n",
    " 'projectKey',\n",
    " 'projectName',\n",
    " 'created_ts',\n",
    " 'updated_ts',\n",
    " 'ParentLink',\n",
    " 'parent.key',\n",
    " 'parent.Summary',\n",
    " 'parent.priority',\n",
    " 'parent.status',\n",
    " 'summary',\n",
    " 'StoryPoint',\n",
    " 'Sprint',\n",
    " 'Sprint_state',\n",
    " 'Sprint_name',\n",
    " 'Sprint_startDate',\n",
    " 'Sprint_endDate',\n",
    " 'Sprint_completeDate',\n",
    " 'Sprint_activatedDate',\n",
    " 'Sprint_goal',\n",
    "  'Defect Type',\n",
    "  'Bug Severity',\n",
    " 'AssigneeName',\n",
    " 'AssigneeEmailAddress',\n",
    " 'AssigneeDisplayName',\n",
    " 'ResolutionDescription',\n",
    " 'ResolutionName'\n",
    " \n",
    "])\n",
    "\n",
    "\n",
    "logger.info(\"=======================================\")\n",
    "logger.info(\"Script start accumulating data from JIRA\")"
   ]
  },
  {
   "cell_type": "code",
   "execution_count": null,
   "metadata": {},
   "outputs": [],
   "source": [
    "issueLists = [\n",
    "              {'issueType':\"Portfolio Initiative\",'partitionCnt':1},\n",
    "              {'issueType':\"Product Initiative\", 'partitionCnt':1 },\n",
    "              {'issueType':\"Epic\",'partitionCnt':3},\n",
    "              {'issueType':\"Story\",'partitionCnt':20},\n",
    "              {'issueType':\"Task\",'partitionCnt':3},\n",
    "              {'issueType':\"Sub-task\",'partitionCnt':10},\n",
    "              {'issueType':\"Bug\",'partitionCnt':5},\n",
    "              {'issueType':\"Incident\",'partitionCnt':1},\n",
    "              {'issueType':\"Production Defects\",'partitionCnt':1},\n",
    "              {'issueType':\"Defect\",'partitionCnt':1},\n",
    "              {'issueType':\"Issue\",'partitionCnt':1},\n",
    "              {'issueType':\"Test\",'partitionCnt':20}\n",
    "             ]\n",
    "\n",
    "strings = projectList()\n",
    "\n",
    "for issueList in issueLists:\n",
    "    split_string_list = split_list(strings, issueList['partitionCnt'])\n",
    "\n",
    "    for partition in split_string_list:\n",
    "        df=fetch(', '.join(['\"{}\"'.format(value) for value in partition]),issueList['issueType'])\n",
    "        if df is not None and not df.empty:\n",
    "            g_Df = pd.concat([g_Df, df ], ignore_index=True)"
   ]
  },
  {
   "cell_type": "code",
   "execution_count": null,
   "metadata": {},
   "outputs": [],
   "source": [
    "# g_Df=fetch(\"DNA\",\"Story\")\n",
    "logger.info(\"Split Sprint struct to seperate fields...\")\n",
    "g_Df['Sprint'] = g_Df['Sprint'].apply(lambda x: convert_to_key_value(x))\n",
    "g_Df['Sprint_state'] = g_Df['Sprint'].apply(lambda x: sprintvalue(x,'state') if x is not None else \"NA\" )\n",
    "g_Df['Sprint_name']= g_Df['Sprint'].apply(lambda x: sprintvalue(x,'name') if x is not None else \"NA\" )\n",
    "g_Df['Sprint_startDate']= g_Df['Sprint'].apply(lambda x: sprintvalue(x,'startDate') if x is not None else \"NA\" )\n",
    "g_Df['Sprint_endDate']= g_Df['Sprint'].apply(lambda x: sprintvalue(x,'endDate') if x is not None else \"NA\" )\n",
    "g_Df['Sprint_completeDate']= g_Df['Sprint'].apply(lambda x: sprintvalue(x,'completeDate') if x is not None else \"NA\" )\n",
    "g_Df['Sprint_activatedDate']= g_Df['Sprint'].apply(lambda x: sprintvalue(x,'activatedDate') if x is not None else \"NA\" )\n",
    "# g_Df['Sprint_goal']= epic_Df['Sprint'].apply(lambda x: sprintvalue(x,'goal') if x is not None else \"NA\" )\n",
    "g_Df= g_Df.drop(columns=['Sprint'])\n",
    "\n",
    "g_Df['FixVersion']= g_Df['FixVersion'].apply(lambda x: keyvalue(x,'name') if x is not None else \"\" )\n",
    "\n"
   ]
  },
  {
   "cell_type": "code",
   "execution_count": null,
   "metadata": {},
   "outputs": [],
   "source": [
    "logger.info(\"Upload file to sharepoint...\")\n",
    "\n",
    "\n",
    "try:\n",
    "    # Use os.path.join to safely construct the filepaths\n",
    "    g_Df[g_Df['issueType'] == 'Portfolio Initiative'].to_csv(os.path.join(filepath, 'Portfolio_Initiative.csv'), index=False)\n",
    "    g_Df[g_Df['issueType'] == 'Product Initiative'].to_csv(os.path.join(filepath, 'Product_Initiative.csv'), index=False)\n",
    "    g_Df[g_Df['issueType'] == 'Epic'].to_csv(os.path.join(filepath, 'Epic.csv'), index=False)\n",
    "    g_Df[g_Df['issueType'] == 'Story'].to_csv(os.path.join(filepath, 'Story.csv'), index=False)\n",
    "    g_Df[g_Df['issueType'] == 'Task'].to_csv(os.path.join(filepath, 'Task.csv'), index=False)\n",
    "    g_Df[g_Df['issueType'] == 'Sub-task'].to_csv(os.path.join(filepath, 'Subtasks.csv'), index=False)\n",
    "    g_Df[g_Df['issueType'] == 'Test'].to_csv(os.path.join(filepath, 'Test.csv'), index=False)\n",
    "    g_Df.loc[g_Df['issueType'].isin(['Bug','Epic','Incident','Production Defects','Defect','Issue'])].to_csv(os.path.join(filepath, 'Bug.csv'), index=False)\n",
    "\n",
    "except Exception as e:  \n",
    "    logger.error(f\"Failed to upload files to {filepath}: {e}\")\n",
    "    pass\n",
    "\n",
    "\n",
    "logger.info(\"Files uploaded\")\n",
    "logger.info(\"Script ended accumulating data from JIRA\")\n",
    "logger.info(\"=======================================\")"
   ]
  }
 ],
 "metadata": {
  "kernelspec": {
   "display_name": "Python 3.9.6 64-bit",
   "language": "python",
   "name": "python3"
  },
  "language_info": {
   "codemirror_mode": {
    "name": "ipython",
    "version": 3
   },
   "file_extension": ".py",
   "mimetype": "text/x-python",
   "name": "python",
   "nbconvert_exporter": "python",
   "pygments_lexer": "ipython3",
   "version": "3.9.6"
  },
  "orig_nbformat": 4,
  "vscode": {
   "interpreter": {
    "hash": "31f2aee4e71d21fbe5cf8b01ff0e069b9275f58929596ceb00d14d90e3e16cd6"
   }
  }
 },
 "nbformat": 4,
 "nbformat_minor": 2
}
