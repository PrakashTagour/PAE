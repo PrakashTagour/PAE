{
 "cells": [
  {
   "cell_type": "code",
   "execution_count": null,
   "metadata": {},
   "outputs": [],
   "source": [
    "%run ./common.ipynb\n",
    "\n",
    "\n",
    "filepath='/Users/u1002018/Library/CloudStorage/OneDrive-SharedLibraries-FootLocker/Global Technology Services - DASH Doc Library/AllProjects/'\n",
    "# filepath='./output/'\n",
    "\n",
    "datestr = \"\"\n",
    "logger = setup_logger()"
   ]
  },
  {
   "cell_type": "code",
   "execution_count": null,
   "metadata": {},
   "outputs": [],
   "source": [
    "def projectList():\n",
    "    searchURL='https://jira.footlocker.com/rest/api/2/project'\n",
    "    searchQry_DS = getUrlDataSet(searchURL)\n",
    "    df=pd.json_normalize(searchQry_DS)\n",
    "    return df['key']"
   ]
  },
  {
   "cell_type": "code",
   "execution_count": null,
   "metadata": {},
   "outputs": [],
   "source": [
    "def data_clean(df):\n",
    "    if df is not None and not df.empty:\n",
    "       df= df.filter(['key',\n",
    "                'fields.fixVersions',\n",
    "                'fields.priority.name',\n",
    "                'fields.customfield_31601',\n",
    "                'fields.customfield_12402.value',\n",
    "                'fields.labels',\n",
    "                'fields.customfield_10006',\n",
    "                'fields.status.name',\n",
    "                'fields.components',\n",
    "                'fields.creator.name',\n",
    "                'fields.creator.emailAddress',\n",
    "                'fields.creator.displayName',\n",
    "                # 'fields.subtasks',\n",
    "                'fields.reporter.name',\n",
    "                'fields.reporter.emailAddress',\n",
    "                'fields.reporter.displayName',\n",
    "                'fields.issuetype.name',\n",
    "                'fields.project.key',\n",
    "                'fields.project.name',\n",
    "                'fields.created',\n",
    "                'fields.updated',\n",
    "                'fields.customfield_12823',\n",
    "                'fields.summary',\n",
    "                'fields.customfield_10002',\n",
    "                'fields.customfield_10004',\n",
    "                'fields.assignee.name',\n",
    "                'fields.assignee.emailAddress',\n",
    "                'fields.assignee.displayName',\n",
    "                'fields.resolution.description',\n",
    "                'fields.resolution.name',\n",
    "                'fields.parent.fields.summary',\n",
    "                'fields.parent.key',\n",
    "                'fields.parent.fields.status.name',\n",
    "                'fields.parent.fields.priority.name',\n",
    "                'fields.customfield_32101.value',\n",
    "                'fields.customfield_32302.value',\n",
    "                'fields.customfield_11605.value']).rename(columns={'fields.fixVersions': 'FixVersion', \n",
    "                        'fields.priority.name':'Priority',\n",
    "                        'fields.customfield_31601': 'Acceptance Criteria',\n",
    "                        'fields.customfield_12402.value':'Severity Level',\n",
    "                        'fields.labels':'Labels',\n",
    "                        'fields.customfield_10006':'EpicLink',\n",
    "                        'fields.status.name': 'Status',\n",
    "                        'fields.components':'Components',\n",
    "                        'fields.creator.name':'IssueCreator',\n",
    "                        'fields.creator.emailAddress':'creator.emailAddress',\n",
    "                        'fields.creator.displayName': 'creator.displayName',\n",
    "                        # 'fields.subtasks':'SubTasks',\n",
    "                        'fields.reporter.name':'Reporter.name',\n",
    "                        'fields.reporter.emailAddress':'reporter.emailAddress',\n",
    "                        'fields.reporter.displayName': 'reporter.displayName',\n",
    "                        'fields.issuetype.name':'issueType',\n",
    "                        'fields.project.key':'projectKey',\n",
    "                        'fields.project.name':'projectName',\n",
    "                        'fields.created':'created_ts',\n",
    "                        'fields.updated':'updated_ts',\n",
    "                        'fields.customfield_12823': 'ParentLink',\n",
    "                        'fields.summary':'summary',\n",
    "                        'fields.customfield_10002':'StoryPoint',\n",
    "                        'fields.customfield_10004':'Sprint',                                  \n",
    "                        'fields.assignee.name':'AssigneeName',\n",
    "                        'fields.assignee.emailAddress':'AssigneeEmailAddress',\n",
    "                        'fields.assignee.displayName':'AssigneeDisplayName',\n",
    "                        'fields.resolution.description':'ResolutionDescription',\n",
    "                        'fields.resolution.name':'ResolutionName',\n",
    "                        'fields.parent.fields.summary': 'parent.Summary',\n",
    "                        'fields.parent.key': 'parent.key',\n",
    "                        'fields.parent.fields.status.name': 'parent.status',\n",
    "                        'fields.parent.fields.priority.name':'parent.priority',\n",
    "                        'fields.customfield_32101.value':'Defect Type',\n",
    "                        'fields.customfield_32302.value':'Test Cycle',\n",
    "                        'fields.customfield_11605.value':'Bug Severity'})\n",
    "    return df"
   ]
  },
  {
   "cell_type": "code",
   "execution_count": null,
   "metadata": {},
   "outputs": [],
   "source": [
    "# project_init('CSP')"
   ]
  },
  {
   "cell_type": "code",
   "execution_count": null,
   "metadata": {},
   "outputs": [],
   "source": [
    "def fetch(project,issueType,duration=90):\n",
    "    df =  None\n",
    "\n",
    "    logger.info(f\"Fetch {issueType}...\")\n",
    "    searchQry=f'?jql= project in ({project}) and issueType=\"{issueType}\" and updated > -{duration}d &maxResults=6000&&expand=projects.issuetypes.fields'\n",
    "    searchQry_DS = getDataSet(searchQry)\n",
    "\n",
    "    if searchQry_DS:\n",
    "        df=pd.json_normalize(searchQry_DS)\n",
    "        # display(df)\n",
    "    else:\n",
    "        logger.error(f\"{issueType}  is empty for {project}\")\n",
    "\n",
    "    return data_clean(df)"
   ]
  },
  {
   "cell_type": "code",
   "execution_count": null,
   "metadata": {},
   "outputs": [],
   "source": [
    "def split_list(lst, n):\n",
    "    \"\"\"Splits a list into n approximately equal parts.\"\"\"\n",
    "    k, m = divmod(len(lst), n)\n",
    "    return [lst[i * k + min(i, m):(i + 1) * k + min(i + 1, m)] for i in range(n)]\n"
   ]
  },
  {
   "cell_type": "code",
   "execution_count": 158,
   "metadata": {},
   "outputs": [],
   "source": [
    "def sprintvalue(x,field):\n",
    "    if(len(x)!=0):\n",
    "      return x[field]\n",
    "    else:\n",
    "     return 'NA'"
   ]
  },
  {
   "cell_type": "code",
   "execution_count": 157,
   "metadata": {},
   "outputs": [],
   "source": [
    "def convert_to_key_value(string):\n",
    "    result = {}\n",
    "    if string :\n",
    "        try:\n",
    "            pairs = string[0].split(',')  # Split string by comma\n",
    "            for pair in pairs:\n",
    "                key, value = pair.split('=')  # Split each pair by '='\n",
    "                result[key.strip()] = value.strip()  # Add to dictionary, stripping whitespace\n",
    "        except:\n",
    "            pass\n",
    "    return result"
   ]
  },
  {
   "cell_type": "code",
   "execution_count": null,
   "metadata": {},
   "outputs": [],
   "source": [
    "def keyvalue(x,field):\n",
    "    if(len(x)!=0):\n",
    "      return x[0][field]\n",
    "    else:\n",
    "     return 'NA'"
   ]
  }
 ],
 "metadata": {
  "kernelspec": {
   "display_name": "Python 3.9.6 64-bit",
   "language": "python",
   "name": "python3"
  },
  "language_info": {
   "codemirror_mode": {
    "name": "ipython",
    "version": 3
   },
   "file_extension": ".py",
   "mimetype": "text/x-python",
   "name": "python",
   "nbconvert_exporter": "python",
   "pygments_lexer": "ipython3",
   "version": "3.9.6"
  },
  "orig_nbformat": 4,
  "vscode": {
   "interpreter": {
    "hash": "31f2aee4e71d21fbe5cf8b01ff0e069b9275f58929596ceb00d14d90e3e16cd6"
   }
  }
 },
 "nbformat": 4,
 "nbformat_minor": 2
}
